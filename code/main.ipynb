{
 "cells": [
  {
   "cell_type": "markdown",
   "id": "4105e078",
   "metadata": {},
   "source": [
    "# Descargas"
   ]
  },
  {
   "cell_type": "code",
   "execution_count": null,
   "id": "5b2e6195",
   "metadata": {},
   "outputs": [],
   "source": [
    "!git clone https://github.com/Tio-Panda/INF471-Feria.git"
   ]
  },
  {
   "cell_type": "code",
   "execution_count": null,
   "id": "7adefad7",
   "metadata": {},
   "outputs": [],
   "source": [
    "!pip install --no-input git+https://github.com/facebookresearch/sam2.git@2b90b9f5ceec907a1c18123530e92e794ad901a4"
   ]
  },
  {
   "cell_type": "markdown",
   "id": "d878bde1",
   "metadata": {},
   "source": [
    "# Init"
   ]
  },
  {
   "cell_type": "code",
   "execution_count": null,
   "id": "5e546cbe",
   "metadata": {},
   "outputs": [],
   "source": [
    "import sys\n",
    "\n",
    "EXTENSIONS = [\".jpg\", \".jpeg\", \".png\"]\n",
    "base_path = \"/content/INF471-Feria\"\n",
    "sys.path.append(f\"{base_path}/code\")"
   ]
  },
  {
   "cell_type": "code",
   "execution_count": null,
   "id": "85b930f0",
   "metadata": {},
   "outputs": [],
   "source": [
    "import copy\n",
    "import random\n",
    "import numpy as np\n",
    "from numpy.random import default_rng\n",
    "\n",
    "from img_handlers import plot_imgs_tuple_array, get_imgs_PIL_array, DensityPalette, PrefabricLoader, get_image_from_solution\n",
    "from generative import eval_function"
   ]
  },
  {
   "cell_type": "markdown",
   "id": "cbf10a99",
   "metadata": {},
   "source": [
    "# Cargar imágenes"
   ]
  },
  {
   "cell_type": "code",
   "execution_count": null,
   "id": "e750fe65",
   "metadata": {},
   "outputs": [],
   "source": [
    "b_single_imgs_path = f\"{base_path}/imgs/b_imgs/textures\"\n",
    "b_full_imgs_path = f\"{base_path}/imgs/b_imgs/full_textures\"\n",
    "\n",
    "density_palette = DensityPalette(b_single_imgs_path, b_full_imgs_path, 5, 5, 7)\n",
    "density_palette.show_palette()"
   ]
  },
  {
   "cell_type": "code",
   "execution_count": null,
   "id": "7cf39184",
   "metadata": {},
   "outputs": [],
   "source": [
    "a_imgs_path = f\"{base_path}/imgs/a_imgs\"\n",
    "\n",
    "a_imgs_array = get_imgs_PIL_array(a_imgs_path)\n",
    "plot_imgs_tuple_array(list(enumerate(a_imgs_array)), \"index: {}\", height=3, width=3)"
   ]
  },
  {
   "cell_type": "markdown",
   "id": "c7ffe382",
   "metadata": {},
   "source": [
    "# Obtener mapa de figuras, canvas principal y paleta de densidades"
   ]
  },
  {
   "cell_type": "code",
   "execution_count": null,
   "id": "00eb4dde",
   "metadata": {},
   "outputs": [],
   "source": [
    "from img_handlers import MainCanvas\n",
    "\n",
    "idx = 0\n",
    "canvas = MainCanvas(a_imgs_array[idx], 854, 480)"
   ]
  },
  {
   "cell_type": "code",
   "execution_count": null,
   "id": "b853feb1",
   "metadata": {},
   "outputs": [],
   "source": [
    "from engine import Engine\n",
    "\n",
    "engine = Engine(\n",
    "    engine=\"SAM\",\n",
    "    points_per_side=24,\n",
    "    points_per_batch=24,\n",
    "    pred_iou_thresh=0.78,\n",
    "    stability_score_thresh=0.83,\n",
    "    stability_score_offset=0.83,\n",
    "    crop_n_layers=1,\n",
    "    box_nms_thresh=0.81,\n",
    "    crop_n_points_downscale_factor=1,\n",
    "    min_mask_region_area=10,\n",
    "    use_m2m=True,\n",
    ")"
   ]
  },
  {
   "cell_type": "code",
   "execution_count": null,
   "id": "830e0eb2",
   "metadata": {},
   "outputs": [],
   "source": [
    "shape_map = engine.get_shape_map(canvas.get_canvas())"
   ]
  },
  {
   "cell_type": "code",
   "execution_count": null,
   "id": "347a2425",
   "metadata": {},
   "outputs": [],
   "source": [
    "selected_range = (1, -1)\n",
    "shape_map.set_map_sub_polygons(n_max=50, l_high=8000, l_low=500, range=selected_range)\n",
    "plot_imgs_tuple_array(list(enumerate([\n",
    "    canvas.get_canvas(), \n",
    "    shape_map.get_map_img((0, -1)), \n",
    "    shape_map.get_map_img(selected_range),\n",
    "    shape_map.get_sub_polygons_img(selected_range)\n",
    "])), \"\", height=5, width=8)"
   ]
  },
  {
   "cell_type": "markdown",
   "id": "7ba7bf51",
   "metadata": {},
   "source": [
    "# Guardar canvas y mapa de figuras"
   ]
  },
  {
   "cell_type": "code",
   "execution_count": null,
   "id": "48a45abf",
   "metadata": {},
   "outputs": [],
   "source": [
    "pf = PrefabricLoader(f\"{base_path}/prefabrics\")\n",
    "\n",
    "name = \"nombre\"\n",
    "pf.save_prefabric(canvas, shape_map, name)"
   ]
  },
  {
   "cell_type": "markdown",
   "id": "82aeb936",
   "metadata": {},
   "source": [
    "# Algoritmos Generativos"
   ]
  },
  {
   "cell_type": "code",
   "execution_count": null,
   "id": "ea930613",
   "metadata": {},
   "outputs": [],
   "source": [
    "canvas_img = canvas.get_canvas()\n",
    "N, M = canvas_img.size\n",
    "\n",
    "all_polygons = shape_map.get_concatenated_sub_polygons()\n",
    "n_polygons = len(all_polygons)\n",
    "\n",
    "polygons_patches = []\n",
    "for poly in all_polygons:\n",
    "    if random.random() < 0.96:\n",
    "        polygons_patches.append(poly.get_img_with_texture(canvas, density_palette))\n",
    "    else:\n",
    "        polygons_patches.append(canvas.get_masked_img(poly.mask))\n",
    "\n",
    "solution_img = get_image_from_solution(polygons_patches, canvas)"
   ]
  },
  {
   "cell_type": "code",
   "execution_count": null,
   "id": "234fb590",
   "metadata": {},
   "outputs": [],
   "source": [
    "def generic_algorithm(canvas, all_polygons, polygons_patches_original, density_palette, n_iterations=100, n_mutate_max=1, alpha=0.45, beta=4, w=0.56):\n",
    "    \n",
    "    historial = []\n",
    "    n_polygons = len(all_polygons)\n",
    "    _polygons_patches = copy.deepcopy(polygons_patches_original)\n",
    "    \n",
    "    for _ in range(n_iterations):\n",
    "        \n",
    "        change_idx_list = random.choices(range(n_polygons), k=n_mutate_max)\n",
    "\n",
    "        for idx in change_idx_list:\n",
    "            solution_img = get_image_from_solution(_polygons_patches, canvas)\n",
    "            historial.append(solution_img)\n",
    "            global_eval = eval_function(canvas_img, solution_img, w)\n",
    "            patch_eval = eval_function(canvas.get_masked_img(all_polygons[idx].mask), _polygons_patches[idx], w)\n",
    "\n",
    "            deficit = max(0.0, (global_eval - patch_eval)) / (global_eval + 1e-9)\n",
    "            p = 1 / (1 + np.exp(-beta*(deficit - 0.5)))\n",
    "\n",
    "            if random.random() >= p:\n",
    "                if random.random() < alpha:\n",
    "                    _polygons_patches[idx] = all_polygons[idx].get_img_with_texture(canvas, density_palette)\n",
    "                else:\n",
    "                    _polygons_patches[idx] = canvas.get_masked_img(all_polygons[idx].mask)\n",
    "\n",
    "    return (_polygons_patches, historial)\n",
    "\n",
    "(_polygons_patches, historial) = generic_algorithm(canvas, all_polygons, polygons_patches, density_palette)\n",
    "\n",
    "solution_img = get_image_from_solution(_polygons_patches, canvas)"
   ]
  },
  {
   "cell_type": "code",
   "execution_count": null,
   "id": "8dfbc363",
   "metadata": {},
   "outputs": [],
   "source": [
    "n_historial = len(historial)\n",
    "h_idxs = np.linspace(0, n_historial - 1, 16, dtype=int)\n",
    "show_historial = [historial[i] for i in h_idxs]\n",
    "\n",
    "plot_imgs_tuple_array(list(zip(h_idxs, show_historial)), title_format=\"idx: {}\", height=3, width=3)"
   ]
  },
  {
   "cell_type": "code",
   "execution_count": null,
   "id": "631997a2",
   "metadata": {},
   "outputs": [],
   "source": [
    "from img_handlers import get_img_with_bg, row_fusion, col_fusion, diagonal_fusion\n",
    "\n",
    "original_img = canvas.get_canvas()\n",
    "w, h = original_img.size\n",
    "\n",
    "out1 = get_img_with_bg(solution_img, canvas.bg_letter, (255, 255, 255, 255))\n",
    "out1 = canvas.colorize_img(out1, 0.35)\n",
    "\n",
    "out2 = get_img_with_bg(solution_img, canvas.bg_grid, (255, 255, 255, 255))\n",
    "out2 = canvas.colorize_img(out2, 0.15)\n",
    "\n",
    "out3 = row_fusion(out1, out2, 50, 0.6)\n",
    "\n",
    "out4 = col_fusion(out1, out2, 100, 0.5)\n",
    "out4 = row_fusion(out4, canvas.get_canvas(), 50, 0.7)\n",
    "\n",
    "out5 = diagonal_fusion(out1, out2, 100, 30, 0.5)\n",
    "\n",
    "out6 = diagonal_fusion(out1, original_img, 90, 40, 0.4)\n",
    "out6 = diagonal_fusion(out6, out2, 90, -40, 0.6)\n",
    "\n",
    "plot_imgs_tuple_array(list(enumerate([ \n",
    "    solution_img,\n",
    "    canvas.bg_letter,\n",
    "    canvas.bg_grid,\n",
    "    out1,\n",
    "    out2,\n",
    "    out3,\n",
    "    out4,\n",
    "    out5,\n",
    "    out6\n",
    "])), \"\", height=5, width=8)"
   ]
  }
 ],
 "metadata": {
  "kernelspec": {
   "display_name": "tf-2.10",
   "language": "python",
   "name": "python3"
  },
  "language_info": {
   "name": "python",
   "version": "3.10.18"
  }
 },
 "nbformat": 4,
 "nbformat_minor": 5
}
