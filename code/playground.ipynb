{
 "cells": [
  {
   "cell_type": "markdown",
   "id": "b5c5c564",
   "metadata": {},
   "source": [
    "# Descargas"
   ]
  },
  {
   "cell_type": "code",
   "execution_count": null,
   "id": "d46f700d",
   "metadata": {},
   "outputs": [],
   "source": [
    "!git clone https://github.com/Tio-Panda/INF471-Feria.git"
   ]
  },
  {
   "cell_type": "code",
   "execution_count": null,
   "id": "89dd1376",
   "metadata": {},
   "outputs": [],
   "source": [
    "!pip install --no-input -r ./INF471-Feria/requirements1.txt"
   ]
  },
  {
   "cell_type": "markdown",
   "id": "0df6d180",
   "metadata": {},
   "source": [
    "# Init"
   ]
  },
  {
   "cell_type": "code",
   "execution_count": null,
   "id": "22c90bb3",
   "metadata": {},
   "outputs": [],
   "source": [
    "import sys\n",
    "\n",
    "EXTENSIONS = [\".jpg\", \".jpeg\", \".png\"]\n",
    "base_path = \"/content/INF471-Feria\"\n",
    "sys.path.append(f\"{base_path}/code\")"
   ]
  },
  {
   "cell_type": "code",
   "execution_count": null,
   "id": "f5a485f4",
   "metadata": {},
   "outputs": [],
   "source": [
    "import numpy as np\n",
    "from numpy.random import default_rng\n",
    "from img_handlers import plot_imgs_tuple_array, get_imgs_PIL_array, DensityPalette, PrefabricLoader, get_image_from_solution"
   ]
  },
  {
   "cell_type": "markdown",
   "id": "d1a28f37",
   "metadata": {},
   "source": [
    "# Cargar imágenes"
   ]
  },
  {
   "cell_type": "code",
   "execution_count": null,
   "id": "b6f24ac9",
   "metadata": {},
   "outputs": [],
   "source": [
    "b_single_imgs_path = f\"{base_path}/imgs/b_imgs/textures\"\n",
    "b_full_imgs_path = f\"{base_path}/imgs/b_imgs/full_textures\"\n",
    "\n",
    "density_palette = DensityPalette(b_single_imgs_path, b_full_imgs_path, 5, 5, 7)\n",
    "density_palette.show_palette()"
   ]
  },
  {
   "cell_type": "code",
   "execution_count": null,
   "id": "2de72984",
   "metadata": {},
   "outputs": [],
   "source": [
    "a_imgs_path = f\"{base_path}/imgs/a_imgs\"\n",
    "\n",
    "a_imgs_array = get_imgs_PIL_array(a_imgs_path)\n",
    "plot_imgs_tuple_array(list(enumerate(a_imgs_array)), \"index: {}\", height=3, width=3)"
   ]
  },
  {
   "cell_type": "markdown",
   "id": "1c1ae82a",
   "metadata": {},
   "source": [
    "# Seleccionar imágen"
   ]
  },
  {
   "cell_type": "code",
   "execution_count": null,
   "id": "1c7e132d",
   "metadata": {},
   "outputs": [],
   "source": [
    "pf = PrefabricLoader(f\"{base_path}/prefabrics\")"
   ]
  },
  {
   "cell_type": "code",
   "execution_count": null,
   "id": "8454f334",
   "metadata": {},
   "outputs": [],
   "source": [
    "name = 1\n",
    "canvas, shape_map = pf.load_prefabric(name)"
   ]
  },
  {
   "cell_type": "code",
   "execution_count": null,
   "id": "3a23d51f",
   "metadata": {},
   "outputs": [],
   "source": [
    "selected_range = (1, -1)\n",
    "shape_map.set_map_sub_polygons(n_max=50, l_high=8000, l_low=500, range=selected_range)\n",
    "plot_imgs_tuple_array(list(enumerate([\n",
    "    canvas.get_canvas(), \n",
    "    shape_map.get_map_img((0, -1)), \n",
    "    shape_map.get_map_img(selected_range),\n",
    "    shape_map.get_sub_polygons_img(selected_range)\n",
    "])), \"\", height=5, width=8)"
   ]
  },
  {
   "cell_type": "markdown",
   "id": "8e72759e",
   "metadata": {},
   "source": [
    "# Obtener collage"
   ]
  },
  {
   "cell_type": "code",
   "execution_count": null,
   "id": "20270bed",
   "metadata": {},
   "outputs": [],
   "source": [
    "original_patch = 2\n",
    "texture_patch = 1\n",
    "letter_patch = 3\n",
    "\n",
    "rng = default_rng(11)\n",
    "weights = np.array([original_patch, texture_patch, letter_patch])\n",
    "probs = weights / weights.sum()\n",
    "\n",
    "original_img = canvas.get_canvas()\n",
    "N, M = original_img.size\n",
    "\n",
    "canvas.set_bg_letter(path=f\"{base_path}/fonts\", font_size=4, gamma=2)\n",
    "\n",
    "all_polygons = shape_map.get_concatenated_sub_polygons()\n",
    "n_polygons = len(all_polygons)\n",
    "\n",
    "polygons_patches = []\n",
    "for poly in all_polygons:\n",
    "    choice = rng.choice([0, 1, 2], p=probs)\n",
    "\n",
    "    if choice == 0:\n",
    "        polygons_patches.append(poly.get_img_with_texture(canvas, density_palette))\n",
    "    elif choice == 1:\n",
    "        polygons_patches.append(canvas.get_masked_img(poly.mask))\n",
    "    else:\n",
    "        polygons_patches.append(canvas.get_masked_letter_img(poly.mask))\n",
    "\n",
    "solution_img = get_image_from_solution(polygons_patches, canvas)"
   ]
  },
  {
   "cell_type": "code",
   "execution_count": null,
   "id": "c59fee83",
   "metadata": {},
   "outputs": [],
   "source": [
    "canvas.set_bg_letter(path=f\"{base_path}/fonts\", font_size=4, gamma=2)\n",
    "canvas.set_bg_grid(40, 40, density_palette)"
   ]
  },
  {
   "cell_type": "code",
   "execution_count": null,
   "id": "3d9f5be4",
   "metadata": {},
   "outputs": [],
   "source": [
    "from img_handlers import get_img_with_bg, row_fusion, col_fusion, diagonal_fusion\n",
    "\n",
    "original_img = canvas.get_canvas()\n",
    "w, h = original_img.size\n",
    "\n",
    "out1 = get_img_with_bg(solution_img, canvas.bg_letter, (255, 255, 255, 255))\n",
    "out1 = canvas.colorize_img(out1, 0.35)\n",
    "\n",
    "out2 = get_img_with_bg(solution_img, canvas.bg_grid, (255, 255, 255, 255))\n",
    "out2 = canvas.colorize_img(out2, 0.15)\n",
    "\n",
    "out3 = row_fusion(out1, out2, 50, 0.6)\n",
    "\n",
    "out4 = col_fusion(out1, out2, 100, 0.5)\n",
    "out4 = row_fusion(out4, canvas.get_canvas(), 50, 0.7)\n",
    "\n",
    "out5 = diagonal_fusion(out1, out2, 100, 30, 0.5)\n",
    "\n",
    "out6 = diagonal_fusion(out1, original_img, 90, 40, 0.4)\n",
    "out6 = diagonal_fusion(out6, out2, 90, -40, 0.6)\n",
    "\n",
    "plot_imgs_tuple_array(list(enumerate([ \n",
    "    solution_img,\n",
    "    canvas.bg_letter,\n",
    "    canvas.bg_grid,\n",
    "    out1,\n",
    "    out2,\n",
    "    out3,\n",
    "    out4,\n",
    "    out5,\n",
    "    out6\n",
    "])), \"\", height=5, width=8)"
   ]
  }
 ],
 "metadata": {
  "kernelspec": {
   "display_name": "tf-2.10",
   "language": "python",
   "name": "python3"
  },
  "language_info": {
   "name": "python",
   "version": "3.10.18"
  }
 },
 "nbformat": 4,
 "nbformat_minor": 5
}
